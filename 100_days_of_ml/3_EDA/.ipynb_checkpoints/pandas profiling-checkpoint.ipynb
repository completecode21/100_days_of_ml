{
 "cells": [
  {
   "cell_type": "code",
   "execution_count": 2,
   "id": "d484b2a5",
   "metadata": {},
   "outputs": [
    {
     "name": "stdout",
     "output_type": "stream",
     "text": [
      "Requirement already satisfied: pandas in c:\\users\\admin\\appdata\\local\\programs\\python\\python311\\lib\\site-packages (2.0.3)\n",
      "Collecting profiling\n",
      "  Downloading profiling-0.1.3.tar.gz (36 kB)\n",
      "  Installing build dependencies: started\n",
      "  Installing build dependencies: finished with status 'done'\n",
      "  Getting requirements to build wheel: started\n",
      "  Getting requirements to build wheel: finished with status 'done'\n",
      "  Preparing metadata (pyproject.toml): started\n",
      "  Preparing metadata (pyproject.toml): finished with status 'done'\n",
      "Requirement already satisfied: python-dateutil>=2.8.2 in c:\\users\\admin\\appdata\\local\\programs\\python\\python311\\lib\\site-packages (from pandas) (2.8.2)\n",
      "Requirement already satisfied: pytz>=2020.1 in c:\\users\\admin\\appdata\\local\\programs\\python\\python311\\lib\\site-packages (from pandas) (2023.3)\n",
      "Requirement already satisfied: tzdata>=2022.1 in c:\\users\\admin\\appdata\\local\\programs\\python\\python311\\lib\\site-packages (from pandas) (2023.3)\n",
      "Requirement already satisfied: numpy>=1.21.0 in c:\\users\\admin\\appdata\\local\\programs\\python\\python311\\lib\\site-packages (from pandas) (1.23.5)\n",
      "Collecting valuedispatch>=0.0.1 (from profiling)\n",
      "  Downloading valuedispatch-0.0.1.tar.gz (1.8 kB)\n",
      "  Installing build dependencies: started\n",
      "  Installing build dependencies: finished with status 'done'\n",
      "  Getting requirements to build wheel: started\n",
      "  Getting requirements to build wheel: finished with status 'done'\n",
      "  Preparing metadata (pyproject.toml): started\n",
      "  Preparing metadata (pyproject.toml): finished with status 'done'\n",
      "Requirement already satisfied: click>=4.1 in c:\\users\\admin\\appdata\\local\\programs\\python\\python311\\lib\\site-packages (from profiling) (8.1.3)\n",
      "Collecting click-default-group>=1.2 (from profiling)\n",
      "  Obtaining dependency information for click-default-group>=1.2 from https://files.pythonhosted.org/packages/2c/1a/aff8bb287a4b1400f69e09a53bd65de96aa5cee5691925b38731c67fc695/click_default_group-1.2.4-py2.py3-none-any.whl.metadata\n",
      "  Downloading click_default_group-1.2.4-py2.py3-none-any.whl.metadata (2.8 kB)\n",
      "Requirement already satisfied: six>=1.8.0 in c:\\users\\admin\\appdata\\local\\programs\\python\\python311\\lib\\site-packages (from profiling) (1.16.0)\n",
      "Collecting urwid>=1.2.1 (from profiling)\n",
      "  Obtaining dependency information for urwid>=1.2.1 from https://files.pythonhosted.org/packages/d2/12/d82265b550e572f40b1e4ea9673589267599b274f4a3e74530256ce62d01/urwid-2.6.11-py3-none-any.whl.metadata\n",
      "  Downloading urwid-2.6.11-py3-none-any.whl.metadata (11 kB)\n",
      "Requirement already satisfied: colorama in c:\\users\\admin\\appdata\\local\\programs\\python\\python311\\lib\\site-packages (from click>=4.1->profiling) (0.4.6)\n",
      "Requirement already satisfied: typing-extensions in c:\\users\\admin\\appdata\\local\\programs\\python\\python311\\lib\\site-packages (from urwid>=1.2.1->profiling) (4.7.1)\n",
      "Requirement already satisfied: wcwidth in c:\\users\\admin\\appdata\\local\\programs\\python\\python311\\lib\\site-packages (from urwid>=1.2.1->profiling) (0.2.6)\n",
      "Downloading click_default_group-1.2.4-py2.py3-none-any.whl (4.1 kB)\n",
      "Downloading urwid-2.6.11-py3-none-any.whl (296 kB)\n",
      "   ---------------------------------------- 0.0/296.8 kB ? eta -:--:--\n",
      "   ----------------------- ---------------- 174.1/296.8 kB 5.3 MB/s eta 0:00:01\n",
      "   ---------------------------------------- 296.8/296.8 kB 4.5 MB/s eta 0:00:00\n",
      "Building wheels for collected packages: profiling, valuedispatch\n",
      "  Building wheel for profiling (pyproject.toml): started\n",
      "  Building wheel for profiling (pyproject.toml): finished with status 'error'\n",
      "  Building wheel for valuedispatch (pyproject.toml): started\n",
      "  Building wheel for valuedispatch (pyproject.toml): finished with status 'done'\n",
      "  Created wheel for valuedispatch: filename=valuedispatch-0.0.1-py3-none-any.whl size=2029 sha256=cda67d2cd7696f116763c69dd7c5b687a168a687e84d98d9daac0934f4b31849\n",
      "  Stored in directory: c:\\users\\admin\\appdata\\local\\pip\\cache\\wheels\\b1\\c8\\5a\\eeddf7d7b715b54f0ff4cd7d8626fa24f2b01561c294b68aeb\n",
      "Successfully built valuedispatch\n",
      "Failed to build profiling\n"
     ]
    },
    {
     "name": "stderr",
     "output_type": "stream",
     "text": [
      "  error: subprocess-exited-with-error\n",
      "  \n",
      "  Building wheel for profiling (pyproject.toml) did not run successfully.\n",
      "  exit code: 1\n",
      "  \n",
      "  [39 lines of output]\n",
      "  running bdist_wheel\n",
      "  running build\n",
      "  running build_py\n",
      "  creating build\n",
      "  creating build\\lib.win-amd64-cpython-311\n",
      "  creating build\\lib.win-amd64-cpython-311\\profiling\n",
      "  copying profiling\\profiler.py -> build\\lib.win-amd64-cpython-311\\profiling\n",
      "  copying profiling\\sortkeys.py -> build\\lib.win-amd64-cpython-311\\profiling\n",
      "  copying profiling\\stats.py -> build\\lib.win-amd64-cpython-311\\profiling\n",
      "  copying profiling\\utils.py -> build\\lib.win-amd64-cpython-311\\profiling\n",
      "  copying profiling\\viewer.py -> build\\lib.win-amd64-cpython-311\\profiling\n",
      "  copying profiling\\__about__.py -> build\\lib.win-amd64-cpython-311\\profiling\n",
      "  copying profiling\\__init__.py -> build\\lib.win-amd64-cpython-311\\profiling\n",
      "  copying profiling\\__main__.py -> build\\lib.win-amd64-cpython-311\\profiling\n",
      "  creating build\\lib.win-amd64-cpython-311\\profiling\\remote\n",
      "  copying profiling\\remote\\asyncio.py -> build\\lib.win-amd64-cpython-311\\profiling\\remote\n",
      "  copying profiling\\remote\\background.py -> build\\lib.win-amd64-cpython-311\\profiling\\remote\n",
      "  copying profiling\\remote\\client.py -> build\\lib.win-amd64-cpython-311\\profiling\\remote\n",
      "  copying profiling\\remote\\gevent.py -> build\\lib.win-amd64-cpython-311\\profiling\\remote\n",
      "  copying profiling\\remote\\select.py -> build\\lib.win-amd64-cpython-311\\profiling\\remote\n",
      "  copying profiling\\remote\\__init__.py -> build\\lib.win-amd64-cpython-311\\profiling\\remote\n",
      "  creating build\\lib.win-amd64-cpython-311\\profiling\\sampling\n",
      "  copying profiling\\sampling\\samplers.py -> build\\lib.win-amd64-cpython-311\\profiling\\sampling\n",
      "  copying profiling\\sampling\\__init__.py -> build\\lib.win-amd64-cpython-311\\profiling\\sampling\n",
      "  creating build\\lib.win-amd64-cpython-311\\profiling\\tracing\n",
      "  copying profiling\\tracing\\timers.py -> build\\lib.win-amd64-cpython-311\\profiling\\tracing\n",
      "  copying profiling\\tracing\\__init__.py -> build\\lib.win-amd64-cpython-311\\profiling\\tracing\n",
      "  running build_ext\n",
      "  building 'profiling.speedup' extension\n",
      "  creating build\\temp.win-amd64-cpython-311\n",
      "  creating build\\temp.win-amd64-cpython-311\\Release\n",
      "  creating build\\temp.win-amd64-cpython-311\\Release\\profiling\n",
      "  \"C:\\Program Files\\Microsoft Visual Studio\\2022\\Community\\VC\\Tools\\MSVC\\14.36.32532\\bin\\HostX86\\x64\\cl.exe\" /c /nologo /O2 /W3 /GL /DNDEBUG /MD -IC:\\Users\\Admin\\AppData\\Local\\Programs\\Python\\Python311\\include -IC:\\Users\\Admin\\AppData\\Local\\Programs\\Python\\Python311\\Include \"-IC:\\Program Files\\Microsoft Visual Studio\\2022\\Community\\VC\\Tools\\MSVC\\14.36.32532\\include\" \"-IC:\\Program Files\\Microsoft Visual Studio\\2022\\Community\\VC\\Tools\\MSVC\\14.36.32532\\ATLMFC\\include\" \"-IC:\\Program Files\\Microsoft Visual Studio\\2022\\Community\\VC\\Auxiliary\\VS\\include\" \"-IC:\\Program Files (x86)\\Windows Kits\\10\\include\\10.0.22000.0\\ucrt\" \"-IC:\\Program Files (x86)\\Windows Kits\\10\\\\include\\10.0.22000.0\\\\um\" \"-IC:\\Program Files (x86)\\Windows Kits\\10\\\\include\\10.0.22000.0\\\\shared\" \"-IC:\\Program Files (x86)\\Windows Kits\\10\\\\include\\10.0.22000.0\\\\winrt\" \"-IC:\\Program Files (x86)\\Windows Kits\\10\\\\include\\10.0.22000.0\\\\cppwinrt\" /Tcprofiling/speedup.c /Fobuild\\temp.win-amd64-cpython-311\\Release\\profiling/speedup.obj\n",
      "  speedup.c\n",
      "  profiling/speedup.c(28): error C2037: left of 'f_code' specifies undefined struct/union '_frame'\n",
      "  profiling/speedup.c(33): error C2037: left of 'f_code' specifies undefined struct/union '_frame'\n",
      "  profiling/speedup.c(33): error C2198: 'PySet_Contains': too few arguments for call\n",
      "  profiling/speedup.c(41): error C2037: left of 'f_back' specifies undefined struct/union '_frame'\n",
      "  error: command 'C:\\\\Program Files\\\\Microsoft Visual Studio\\\\2022\\\\Community\\\\VC\\\\Tools\\\\MSVC\\\\14.36.32532\\\\bin\\\\HostX86\\\\x64\\\\cl.exe' failed with exit code 2\n",
      "  [end of output]\n",
      "  \n",
      "  note: This error originates from a subprocess, and is likely not a problem with pip.\n",
      "  ERROR: Failed building wheel for profiling\n",
      "ERROR: Could not build wheels for profiling, which is required to install pyproject.toml-based projects\n",
      "\n",
      "[notice] A new release of pip is available: 23.2.1 -> 24.0\n",
      "[notice] To update, run: python.exe -m pip install --upgrade pip\n"
     ]
    }
   ],
   "source": [
    "!pip install pandas profiling "
   ]
  },
  {
   "cell_type": "code",
   "execution_count": 3,
   "id": "6df7adc1",
   "metadata": {},
   "outputs": [],
   "source": [
    "from pandas_profiling import ProfileReport"
   ]
  },
  {
   "cell_type": "code",
   "execution_count": 5,
   "id": "9b31a787",
   "metadata": {},
   "outputs": [],
   "source": [
    "import pandas as pd"
   ]
  },
  {
   "cell_type": "code",
   "execution_count": 6,
   "id": "2f14b400",
   "metadata": {},
   "outputs": [],
   "source": [
    "titanic = pd.read_csv('titanic.csv')"
   ]
  },
  {
   "cell_type": "code",
   "execution_count": 7,
   "id": "5bdfd5f3",
   "metadata": {},
   "outputs": [],
   "source": [
    "report = ProfileReport(titanic)"
   ]
  },
  {
   "cell_type": "code",
   "execution_count": 13,
   "id": "37eab634",
   "metadata": {},
   "outputs": [
    {
     "data": {
      "application/vnd.jupyter.widget-view+json": {
       "model_id": "98606e6274bc4022941c0ae3daa0611d",
       "version_major": 2,
       "version_minor": 0
      },
      "text/plain": [
       "Summarize dataset:   0%|          | 0/5 [00:00<?, ?it/s]"
      ]
     },
     "metadata": {},
     "output_type": "display_data"
    },
    {
     "data": {
      "application/vnd.jupyter.widget-view+json": {
       "model_id": "efbe816cfd6340e781c623a61991103b",
       "version_major": 2,
       "version_minor": 0
      },
      "text/plain": [
       "Generate report structure:   0%|          | 0/1 [00:00<?, ?it/s]"
      ]
     },
     "metadata": {},
     "output_type": "display_data"
    },
    {
     "data": {
      "application/vnd.jupyter.widget-view+json": {
       "model_id": "febe96c1122347479cce6c70285895af",
       "version_major": 2,
       "version_minor": 0
      },
      "text/plain": [
       "Render HTML:   0%|          | 0/1 [00:00<?, ?it/s]"
      ]
     },
     "metadata": {},
     "output_type": "display_data"
    },
    {
     "data": {
      "application/vnd.jupyter.widget-view+json": {
       "model_id": "d356f9aa058a4b73afe79e7c65d3c13c",
       "version_major": 2,
       "version_minor": 0
      },
      "text/plain": [
       "Export report to file:   0%|          | 0/1 [00:00<?, ?it/s]"
      ]
     },
     "metadata": {},
     "output_type": "display_data"
    }
   ],
   "source": [
    "report.to_file(output_file='output.html')"
   ]
  },
  {
   "cell_type": "code",
   "execution_count": null,
   "id": "1162014b",
   "metadata": {},
   "outputs": [],
   "source": []
  }
 ],
 "metadata": {
  "kernelspec": {
   "display_name": "Python 3 (ipykernel)",
   "language": "python",
   "name": "python3"
  },
  "language_info": {
   "codemirror_mode": {
    "name": "ipython",
    "version": 3
   },
   "file_extension": ".py",
   "mimetype": "text/x-python",
   "name": "python",
   "nbconvert_exporter": "python",
   "pygments_lexer": "ipython3",
   "version": "3.11.3"
  }
 },
 "nbformat": 4,
 "nbformat_minor": 5
}
